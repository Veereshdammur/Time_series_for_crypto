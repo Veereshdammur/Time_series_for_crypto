{
 "cells": [
  {
   "cell_type": "code",
   "execution_count": 93,
   "metadata": {},
   "outputs": [],
   "source": [
    "import pandas as pd\n",
    "\n",
    "import matplotlib.pyplot as plt\n",
    "%matplotlib inline"
   ]
  },
  {
   "cell_type": "code",
   "execution_count": 94,
   "metadata": {},
   "outputs": [],
   "source": [
    "url1= 'https://coinmarketcap.com/currencies/bitcoin/historical-data/?start=20160101&end=20190327'\n",
    "url2= 'https://coinmarketcap.com/currencies/ethereum/historical-data/?start=20160101&end=20190327'"
   ]
  },
  {
   "cell_type": "code",
   "execution_count": 95,
   "metadata": {},
   "outputs": [],
   "source": [
    "df1=pd.read_html(url1)\n",
    "df2=pd.read_html(url2)"
   ]
  },
  {
   "cell_type": "code",
   "execution_count": 96,
   "metadata": {},
   "outputs": [],
   "source": [
    "df1=df1[0]\n",
    "df2=df2[0]"
   ]
  },
  {
   "cell_type": "code",
   "execution_count": 97,
   "metadata": {},
   "outputs": [
    {
     "data": {
      "text/html": [
       "<div>\n",
       "<style scoped>\n",
       "    .dataframe tbody tr th:only-of-type {\n",
       "        vertical-align: middle;\n",
       "    }\n",
       "\n",
       "    .dataframe tbody tr th {\n",
       "        vertical-align: top;\n",
       "    }\n",
       "\n",
       "    .dataframe thead th {\n",
       "        text-align: right;\n",
       "    }\n",
       "</style>\n",
       "<table border=\"1\" class=\"dataframe\">\n",
       "  <thead>\n",
       "    <tr style=\"text-align: right;\">\n",
       "      <th></th>\n",
       "      <th>Date</th>\n",
       "      <th>Open*</th>\n",
       "      <th>High</th>\n",
       "      <th>Low</th>\n",
       "      <th>Close**</th>\n",
       "      <th>Volume</th>\n",
       "      <th>Market Cap</th>\n",
       "    </tr>\n",
       "  </thead>\n",
       "  <tbody>\n",
       "    <tr>\n",
       "      <th>0</th>\n",
       "      <td>Mar 27, 2019</td>\n",
       "      <td>3984.24</td>\n",
       "      <td>4087.07</td>\n",
       "      <td>3977.81</td>\n",
       "      <td>4087.07</td>\n",
       "      <td>10897131934</td>\n",
       "      <td>71987847571</td>\n",
       "    </tr>\n",
       "    <tr>\n",
       "      <th>1</th>\n",
       "      <td>Mar 26, 2019</td>\n",
       "      <td>3969.23</td>\n",
       "      <td>3985.08</td>\n",
       "      <td>3944.75</td>\n",
       "      <td>3985.08</td>\n",
       "      <td>10707678815</td>\n",
       "      <td>70184147203</td>\n",
       "    </tr>\n",
       "    <tr>\n",
       "      <th>2</th>\n",
       "      <td>Mar 25, 2019</td>\n",
       "      <td>4024.11</td>\n",
       "      <td>4038.84</td>\n",
       "      <td>3934.03</td>\n",
       "      <td>3963.07</td>\n",
       "      <td>10359818883</td>\n",
       "      <td>69789872373</td>\n",
       "    </tr>\n",
       "    <tr>\n",
       "      <th>3</th>\n",
       "      <td>Mar 24, 2019</td>\n",
       "      <td>4035.16</td>\n",
       "      <td>4040.70</td>\n",
       "      <td>4006.19</td>\n",
       "      <td>4022.17</td>\n",
       "      <td>9144851065</td>\n",
       "      <td>70823042992</td>\n",
       "    </tr>\n",
       "    <tr>\n",
       "      <th>4</th>\n",
       "      <td>Mar 23, 2019</td>\n",
       "      <td>4022.71</td>\n",
       "      <td>4049.88</td>\n",
       "      <td>4015.96</td>\n",
       "      <td>4035.83</td>\n",
       "      <td>9578850549</td>\n",
       "      <td>71056017910</td>\n",
       "    </tr>\n",
       "  </tbody>\n",
       "</table>\n",
       "</div>"
      ],
      "text/plain": [
       "           Date    Open*     High      Low  Close**       Volume   Market Cap\n",
       "0  Mar 27, 2019  3984.24  4087.07  3977.81  4087.07  10897131934  71987847571\n",
       "1  Mar 26, 2019  3969.23  3985.08  3944.75  3985.08  10707678815  70184147203\n",
       "2  Mar 25, 2019  4024.11  4038.84  3934.03  3963.07  10359818883  69789872373\n",
       "3  Mar 24, 2019  4035.16  4040.70  4006.19  4022.17   9144851065  70823042992\n",
       "4  Mar 23, 2019  4022.71  4049.88  4015.96  4035.83   9578850549  71056017910"
      ]
     },
     "execution_count": 97,
     "metadata": {},
     "output_type": "execute_result"
    }
   ],
   "source": [
    "df1.head()"
   ]
  },
  {
   "cell_type": "code",
   "execution_count": 98,
   "metadata": {},
   "outputs": [
    {
     "data": {
      "text/plain": [
       "Index([u'Date', u'Open*', u'High', u'Low', u'Close**', u'Volume',\n",
       "       u'Market Cap'],\n",
       "      dtype='object')"
      ]
     },
     "execution_count": 98,
     "metadata": {},
     "output_type": "execute_result"
    }
   ],
   "source": [
    "df1.columns"
   ]
  },
  {
   "cell_type": "code",
   "execution_count": 99,
   "metadata": {},
   "outputs": [],
   "source": [
    "df1.columns=['Date','Open', 'High', 'Low', \n",
    "           'Close','Volume','Market Cap']\n",
    "df2.columns=['Date','Open', 'High', 'Low', \n",
    "           'Close','Volume','Market Cap']\n"
   ]
  },
  {
   "cell_type": "code",
   "execution_count": 100,
   "metadata": {},
   "outputs": [],
   "source": [
    "#df1.head()\n"
   ]
  },
  {
   "cell_type": "code",
   "execution_count": 101,
   "metadata": {},
   "outputs": [],
   "source": [
    "#df2.head()"
   ]
  },
  {
   "cell_type": "code",
   "execution_count": 102,
   "metadata": {},
   "outputs": [],
   "source": [
    "df1['Date']=pd.to_datetime(df1['Date'])"
   ]
  },
  {
   "cell_type": "code",
   "execution_count": 103,
   "metadata": {},
   "outputs": [],
   "source": [
    "df2['Date']=pd.to_datetime(df2['Date'])"
   ]
  },
  {
   "cell_type": "code",
   "execution_count": 104,
   "metadata": {},
   "outputs": [],
   "source": [
    "df1=df1.set_index('Date')\n",
    "df2=df2.set_index('Date')"
   ]
  },
  {
   "cell_type": "code",
   "execution_count": 105,
   "metadata": {},
   "outputs": [],
   "source": [
    "#df1['Date']=pd.to_datetime(df1['Date'])"
   ]
  },
  {
   "cell_type": "code",
   "execution_count": 106,
   "metadata": {},
   "outputs": [],
   "source": [
    "#df1.head()"
   ]
  },
  {
   "cell_type": "code",
   "execution_count": 107,
   "metadata": {},
   "outputs": [],
   "source": [
    "#df2.head()"
   ]
  },
  {
   "cell_type": "code",
   "execution_count": 108,
   "metadata": {},
   "outputs": [
    {
     "data": {
      "text/plain": [
       "Text(0.5,1,'Price comparision of Ethereum and Bitcoin')"
      ]
     },
     "execution_count": 108,
     "metadata": {},
     "output_type": "execute_result"
    },
    {
     "data": {
      "image/png": "[encoded data removed]",
      "text/plain": [
       "<Figure size 432x288 with 1 Axes>"
      ]
     },
     "metadata": {
      "needs_background": "light"
     },
     "output_type": "display_data"
    }
   ],
   "source": [
    "%matplotlib inline\n",
    "plt.xticks(rotation=70) \n",
    "plt.plot(df1.Close,label='Bitcoin')\n",
    "plt.plot(df2.Close,label='Ethereum')\n",
    "plt.legend(loc='best')\n",
    "plt.grid()\n",
    "\n",
    "\n",
    "plt.ylabel('Price')\n",
    "plt.title('Price comparision of Ethereum and Bitcoin')"
   ]
  },
  {
   "cell_type": "code",
   "execution_count": 109,
   "metadata": {},
   "outputs": [],
   "source": [
    "bit_coin=pd.DataFrame(df1.Close)\n",
    "Ethereum=pd.DataFrame(df2.Close)\n",
    "\n"
   ]
  },
  {
   "cell_type": "code",
   "execution_count": 110,
   "metadata": {},
   "outputs": [],
   "source": [
    "df1['MA_7']=bit_coin.Close.rolling(7).mean()\n",
    "df2['MA_7']=Ethereum.Close.rolling(7).mean()"
   ]
  },
  {
   "cell_type": "code",
   "execution_count": 111,
   "metadata": {},
   "outputs": [
    {
     "data": {
      "text/html": [
       "<div>\n",
       "<style scoped>\n",
       "    .dataframe tbody tr th:only-of-type {\n",
       "        vertical-align: middle;\n",
       "    }\n",
       "\n",
       "    .dataframe tbody tr th {\n",
       "        vertical-align: top;\n",
       "    }\n",
       "\n",
       "    .dataframe thead th {\n",
       "        text-align: right;\n",
       "    }\n",
       "</style>\n",
       "<table border=\"1\" class=\"dataframe\">\n",
       "  <thead>\n",
       "    <tr style=\"text-align: right;\">\n",
       "      <th></th>\n",
       "      <th>Open</th>\n",
       "      <th>High</th>\n",
       "      <th>Low</th>\n",
       "      <th>Close</th>\n",
       "      <th>Volume</th>\n",
       "      <th>Market Cap</th>\n",
       "      <th>MA_7</th>\n",
       "    </tr>\n",
       "    <tr>\n",
       "      <th>Date</th>\n",
       "      <th></th>\n",
       "      <th></th>\n",
       "      <th></th>\n",
       "      <th></th>\n",
       "      <th></th>\n",
       "      <th></th>\n",
       "      <th></th>\n",
       "    </tr>\n",
       "  </thead>\n",
       "  <tbody>\n",
       "    <tr>\n",
       "      <th>2019-03-27</th>\n",
       "      <td>3984.24</td>\n",
       "      <td>4087.07</td>\n",
       "      <td>3977.81</td>\n",
       "      <td>4087.07</td>\n",
       "      <td>10897131934</td>\n",
       "      <td>71987847571</td>\n",
       "      <td>NaN</td>\n",
       "    </tr>\n",
       "    <tr>\n",
       "      <th>2019-03-26</th>\n",
       "      <td>3969.23</td>\n",
       "      <td>3985.08</td>\n",
       "      <td>3944.75</td>\n",
       "      <td>3985.08</td>\n",
       "      <td>10707678815</td>\n",
       "      <td>70184147203</td>\n",
       "      <td>NaN</td>\n",
       "    </tr>\n",
       "    <tr>\n",
       "      <th>2019-03-25</th>\n",
       "      <td>4024.11</td>\n",
       "      <td>4038.84</td>\n",
       "      <td>3934.03</td>\n",
       "      <td>3963.07</td>\n",
       "      <td>10359818883</td>\n",
       "      <td>69789872373</td>\n",
       "      <td>NaN</td>\n",
       "    </tr>\n",
       "    <tr>\n",
       "      <th>2019-03-24</th>\n",
       "      <td>4035.16</td>\n",
       "      <td>4040.70</td>\n",
       "      <td>4006.19</td>\n",
       "      <td>4022.17</td>\n",
       "      <td>9144851065</td>\n",
       "      <td>70823042992</td>\n",
       "      <td>NaN</td>\n",
       "    </tr>\n",
       "    <tr>\n",
       "      <th>2019-03-23</th>\n",
       "      <td>4022.71</td>\n",
       "      <td>4049.88</td>\n",
       "      <td>4015.96</td>\n",
       "      <td>4035.83</td>\n",
       "      <td>9578850549</td>\n",
       "      <td>71056017910</td>\n",
       "      <td>NaN</td>\n",
       "    </tr>\n",
       "    <tr>\n",
       "      <th>2019-03-22</th>\n",
       "      <td>4028.51</td>\n",
       "      <td>4053.91</td>\n",
       "      <td>4021.54</td>\n",
       "      <td>4023.97</td>\n",
       "      <td>9252935969</td>\n",
       "      <td>70840048102</td>\n",
       "      <td>NaN</td>\n",
       "    </tr>\n",
       "    <tr>\n",
       "      <th>2019-03-21</th>\n",
       "      <td>4083.95</td>\n",
       "      <td>4097.36</td>\n",
       "      <td>4005.15</td>\n",
       "      <td>4029.33</td>\n",
       "      <td>10831212662</td>\n",
       "      <td>70926226882</td>\n",
       "      <td>4020.931429</td>\n",
       "    </tr>\n",
       "  </tbody>\n",
       "</table>\n",
       "</div>"
      ],
      "text/plain": [
       "               Open     High      Low    Close       Volume   Market Cap  \\\n",
       "Date                                                                       \n",
       "2019-03-27  3984.24  4087.07  3977.81  4087.07  10897131934  71987847571   \n",
       "2019-03-26  3969.23  3985.08  3944.75  3985.08  10707678815  70184147203   \n",
       "2019-03-25  4024.11  4038.84  3934.03  3963.07  10359818883  69789872373   \n",
       "2019-03-24  4035.16  4040.70  4006.19  4022.17   9144851065  70823042992   \n",
       "2019-03-23  4022.71  4049.88  4015.96  4035.83   9578850549  71056017910   \n",
       "2019-03-22  4028.51  4053.91  4021.54  4023.97   9252935969  70840048102   \n",
       "2019-03-21  4083.95  4097.36  4005.15  4029.33  10831212662  70926226882   \n",
       "\n",
       "                   MA_7  \n",
       "Date                     \n",
       "2019-03-27          NaN  \n",
       "2019-03-26          NaN  \n",
       "2019-03-25          NaN  \n",
       "2019-03-24          NaN  \n",
       "2019-03-23          NaN  \n",
       "2019-03-22          NaN  \n",
       "2019-03-21  4020.931429  "
      ]
     },
     "execution_count": 111,
     "metadata": {},
     "output_type": "execute_result"
    }
   ],
   "source": [
    "df1.head(7)"
   ]
  },
  {
   "cell_type": "code",
   "execution_count": 112,
   "metadata": {},
   "outputs": [
    {
     "data": {
      "text/html": [
       "<div>\n",
       "<style scoped>\n",
       "    .dataframe tbody tr th:only-of-type {\n",
       "        vertical-align: middle;\n",
       "    }\n",
       "\n",
       "    .dataframe tbody tr th {\n",
       "        vertical-align: top;\n",
       "    }\n",
       "\n",
       "    .dataframe thead th {\n",
       "        text-align: right;\n",
       "    }\n",
       "</style>\n",
       "<table border=\"1\" class=\"dataframe\">\n",
       "  <thead>\n",
       "    <tr style=\"text-align: right;\">\n",
       "      <th></th>\n",
       "      <th>Open</th>\n",
       "      <th>High</th>\n",
       "      <th>Low</th>\n",
       "      <th>Close</th>\n",
       "      <th>Volume</th>\n",
       "      <th>Market Cap</th>\n",
       "      <th>MA_7</th>\n",
       "    </tr>\n",
       "    <tr>\n",
       "      <th>Date</th>\n",
       "      <th></th>\n",
       "      <th></th>\n",
       "      <th></th>\n",
       "      <th></th>\n",
       "      <th></th>\n",
       "      <th></th>\n",
       "      <th></th>\n",
       "    </tr>\n",
       "  </thead>\n",
       "  <tbody>\n",
       "    <tr>\n",
       "      <th>2019-03-27</th>\n",
       "      <td>135.45</td>\n",
       "      <td>141.08</td>\n",
       "      <td>135.34</td>\n",
       "      <td>140.99</td>\n",
       "      <td>5228240093</td>\n",
       "      <td>14862394451</td>\n",
       "      <td>NaN</td>\n",
       "    </tr>\n",
       "    <tr>\n",
       "      <th>2019-03-26</th>\n",
       "      <td>135.05</td>\n",
       "      <td>135.46</td>\n",
       "      <td>133.76</td>\n",
       "      <td>135.46</td>\n",
       "      <td>4499271679</td>\n",
       "      <td>14277816266</td>\n",
       "      <td>NaN</td>\n",
       "    </tr>\n",
       "    <tr>\n",
       "      <th>2019-03-25</th>\n",
       "      <td>137.08</td>\n",
       "      <td>137.70</td>\n",
       "      <td>133.49</td>\n",
       "      <td>135.03</td>\n",
       "      <td>4480516753</td>\n",
       "      <td>14230733149</td>\n",
       "      <td>NaN</td>\n",
       "    </tr>\n",
       "    <tr>\n",
       "      <th>2019-03-24</th>\n",
       "      <td>138.32</td>\n",
       "      <td>138.38</td>\n",
       "      <td>136.31</td>\n",
       "      <td>136.99</td>\n",
       "      <td>4266845458</td>\n",
       "      <td>14434995337</td>\n",
       "      <td>NaN</td>\n",
       "    </tr>\n",
       "    <tr>\n",
       "      <th>2019-03-23</th>\n",
       "      <td>137.04</td>\n",
       "      <td>139.39</td>\n",
       "      <td>136.91</td>\n",
       "      <td>138.24</td>\n",
       "      <td>4436568613</td>\n",
       "      <td>14565143357</td>\n",
       "      <td>NaN</td>\n",
       "    </tr>\n",
       "    <tr>\n",
       "      <th>2019-03-22</th>\n",
       "      <td>136.56</td>\n",
       "      <td>138.79</td>\n",
       "      <td>136.23</td>\n",
       "      <td>137.18</td>\n",
       "      <td>4490899266</td>\n",
       "      <td>14451740115</td>\n",
       "      <td>NaN</td>\n",
       "    </tr>\n",
       "    <tr>\n",
       "      <th>2019-03-21</th>\n",
       "      <td>140.48</td>\n",
       "      <td>141.00</td>\n",
       "      <td>135.86</td>\n",
       "      <td>136.64</td>\n",
       "      <td>5087247796</td>\n",
       "      <td>14392427839</td>\n",
       "      <td>137.218571</td>\n",
       "    </tr>\n",
       "  </tbody>\n",
       "</table>\n",
       "</div>"
      ],
      "text/plain": [
       "              Open    High     Low   Close      Volume   Market Cap  \\\n",
       "Date                                                                  \n",
       "2019-03-27  135.45  141.08  135.34  140.99  5228240093  14862394451   \n",
       "2019-03-26  135.05  135.46  133.76  135.46  4499271679  14277816266   \n",
       "2019-03-25  137.08  137.70  133.49  135.03  4480516753  14230733149   \n",
       "2019-03-24  138.32  138.38  136.31  136.99  4266845458  14434995337   \n",
       "2019-03-23  137.04  139.39  136.91  138.24  4436568613  14565143357   \n",
       "2019-03-22  136.56  138.79  136.23  137.18  4490899266  14451740115   \n",
       "2019-03-21  140.48  141.00  135.86  136.64  5087247796  14392427839   \n",
       "\n",
       "                  MA_7  \n",
       "Date                    \n",
       "2019-03-27         NaN  \n",
       "2019-03-26         NaN  \n",
       "2019-03-25         NaN  \n",
       "2019-03-24         NaN  \n",
       "2019-03-23         NaN  \n",
       "2019-03-22         NaN  \n",
       "2019-03-21  137.218571  "
      ]
     },
     "execution_count": 112,
     "metadata": {},
     "output_type": "execute_result"
    }
   ],
   "source": [
    "df2.head(7)"
   ]
  },
  {
   "cell_type": "code",
   "execution_count": 113,
   "metadata": {},
   "outputs": [],
   "source": [
    "df1['MA_30']=bit_coin.Close.rolling(30).mean()\n",
    "df2['MA_30']=Ethereum.Close.rolling(30).mean()"
   ]
  },
  {
   "cell_type": "code",
   "execution_count": 114,
   "metadata": {},
   "outputs": [],
   "source": [
    "#df1.head(30)"
   ]
  },
  {
   "cell_type": "code",
   "execution_count": 115,
   "metadata": {},
   "outputs": [],
   "source": [
    "#df2.head(30)"
   ]
  },
  {
   "cell_type": "code",
   "execution_count": 116,
   "metadata": {},
   "outputs": [
    {
     "data": {
      "text/plain": [
       "Text(0.5,1,'7-Days Moving average comparision of Ethereum and Bitcoin')"
      ]
     },
     "execution_count": 116,
     "metadata": {},
     "output_type": "execute_result"
    },
    {
     "data": {
      "image/png": "[encoded data removed]",
      "text/plain": [
       "<Figure size 432x288 with 1 Axes>"
      ]
     },
     "metadata": {
      "needs_background": "light"
     },
     "output_type": "display_data"
    }
   ],
   "source": [
    "%matplotlib inline\n",
    "plt.xticks(rotation=70) \n",
    "plt.plot(df1.MA_7,label='Bitcoin')\n",
    "plt.plot(df2.MA_7,label='Ethereum')\n",
    "plt.legend(loc='best')\n",
    "plt.grid()\n",
    "\n",
    "\n",
    "plt.ylabel('Price')\n",
    "plt.title('7-Days Moving average comparision of Ethereum and Bitcoin')"
   ]
  },
  {
   "cell_type": "code",
   "execution_count": 117,
   "metadata": {},
   "outputs": [
    {
     "data": {
      "text/plain": [
       "Text(0.5,1,'30-Days Moving average comparision of Ethereum and Bitcoin')"
      ]
     },
     "execution_count": 117,
     "metadata": {},
     "output_type": "execute_result"
    },
    {
     "data": {
      "image/png": "[encoded data removed]",
      "text/plain": [
       "<Figure size 432x288 with 1 Axes>"
      ]
     },
     "metadata": {
      "needs_background": "light"
     },
     "output_type": "display_data"
    }
   ],
   "source": [
    "%matplotlib inline\n",
    "plt.xticks(rotation=70) \n",
    "plt.plot(df1.MA_30,label='Bitcoin')\n",
    "plt.plot(df2.MA_30,label='Ethereum')\n",
    "plt.legend(loc='best')\n",
    "plt.grid()\n",
    "\n",
    "\n",
    "plt.ylabel('Price')\n",
    "plt.title('30-Days Moving average comparision of Ethereum and Bitcoin')"
   ]
  },
  {
   "cell_type": "code",
   "execution_count": 118,
   "metadata": {},
   "outputs": [],
   "source": [
    "corr_dataset['Close_bitcoin']=pd.DataFrame(df1.Close['2019-03-27':'2018-03-27'])"
   ]
  },
  {
   "cell_type": "code",
   "execution_count": 119,
   "metadata": {},
   "outputs": [],
   "source": [
    "#corr_dataset.head(20)"
   ]
  },
  {
   "cell_type": "code",
   "execution_count": 120,
   "metadata": {},
   "outputs": [],
   "source": [
    "corr_dataset['Close_Ethereum']=pd.DataFrame(df2.Close['2019-03-27':'2018-03-27'])"
   ]
  },
  {
   "cell_type": "code",
   "execution_count": 121,
   "metadata": {},
   "outputs": [
    {
     "data": {
      "text/html": [
       "<div>\n",
       "<style scoped>\n",
       "    .dataframe tbody tr th:only-of-type {\n",
       "        vertical-align: middle;\n",
       "    }\n",
       "\n",
       "    .dataframe tbody tr th {\n",
       "        vertical-align: top;\n",
       "    }\n",
       "\n",
       "    .dataframe thead th {\n",
       "        text-align: right;\n",
       "    }\n",
       "</style>\n",
       "<table border=\"1\" class=\"dataframe\">\n",
       "  <thead>\n",
       "    <tr style=\"text-align: right;\">\n",
       "      <th></th>\n",
       "      <th>Close_Ethereum</th>\n",
       "      <th>Close_bitcoin</th>\n",
       "    </tr>\n",
       "    <tr>\n",
       "      <th>Date</th>\n",
       "      <th></th>\n",
       "      <th></th>\n",
       "    </tr>\n",
       "  </thead>\n",
       "  <tbody>\n",
       "    <tr>\n",
       "      <th>2019-03-27</th>\n",
       "      <td>140.99</td>\n",
       "      <td>4087.07</td>\n",
       "    </tr>\n",
       "    <tr>\n",
       "      <th>2019-03-26</th>\n",
       "      <td>135.46</td>\n",
       "      <td>3985.08</td>\n",
       "    </tr>\n",
       "    <tr>\n",
       "      <th>2019-03-25</th>\n",
       "      <td>135.03</td>\n",
       "      <td>3963.07</td>\n",
       "    </tr>\n",
       "    <tr>\n",
       "      <th>2019-03-24</th>\n",
       "      <td>136.99</td>\n",
       "      <td>4022.17</td>\n",
       "    </tr>\n",
       "    <tr>\n",
       "      <th>2019-03-23</th>\n",
       "      <td>138.24</td>\n",
       "      <td>4035.83</td>\n",
       "    </tr>\n",
       "  </tbody>\n",
       "</table>\n",
       "</div>"
      ],
      "text/plain": [
       "            Close_Ethereum  Close_bitcoin\n",
       "Date                                     \n",
       "2019-03-27          140.99        4087.07\n",
       "2019-03-26          135.46        3985.08\n",
       "2019-03-25          135.03        3963.07\n",
       "2019-03-24          136.99        4022.17\n",
       "2019-03-23          138.24        4035.83"
      ]
     },
     "execution_count": 121,
     "metadata": {},
     "output_type": "execute_result"
    }
   ],
   "source": [
    "corr_dataset.head(5)"
   ]
  },
  {
   "cell_type": "code",
   "execution_count": 122,
   "metadata": {},
   "outputs": [
    {
     "data": {
      "text/html": [
       "<div>\n",
       "<style scoped>\n",
       "    .dataframe tbody tr th:only-of-type {\n",
       "        vertical-align: middle;\n",
       "    }\n",
       "\n",
       "    .dataframe tbody tr th {\n",
       "        vertical-align: top;\n",
       "    }\n",
       "\n",
       "    .dataframe thead th {\n",
       "        text-align: right;\n",
       "    }\n",
       "</style>\n",
       "<table border=\"1\" class=\"dataframe\">\n",
       "  <thead>\n",
       "    <tr style=\"text-align: right;\">\n",
       "      <th></th>\n",
       "      <th>Close_Ethereum</th>\n",
       "      <th>Close_bitcoin</th>\n",
       "    </tr>\n",
       "  </thead>\n",
       "  <tbody>\n",
       "    <tr>\n",
       "      <th>Close_Ethereum</th>\n",
       "      <td>1.00000</td>\n",
       "      <td>0.87563</td>\n",
       "    </tr>\n",
       "    <tr>\n",
       "      <th>Close_bitcoin</th>\n",
       "      <td>0.87563</td>\n",
       "      <td>1.00000</td>\n",
       "    </tr>\n",
       "  </tbody>\n",
       "</table>\n",
       "</div>"
      ],
      "text/plain": [
       "                Close_Ethereum  Close_bitcoin\n",
       "Close_Ethereum         1.00000        0.87563\n",
       "Close_bitcoin          0.87563        1.00000"
      ]
     },
     "execution_count": 122,
     "metadata": {},
     "output_type": "execute_result"
    }
   ],
   "source": [
    "corr_dataset.corr()"
   ]
  },
  {
   "cell_type": "code",
   "execution_count": 123,
   "metadata": {},
   "outputs": [
    {
     "data": {
      "text/plain": [
       "<matplotlib.axes._subplots.AxesSubplot at 0x1180a630>"
      ]
     },
     "execution_count": 123,
     "metadata": {},
     "output_type": "execute_result"
    },
    {
     "data": {
      "image/png": "[encoded data removed]",
      "text/plain": [
       "<Figure size 360x288 with 2 Axes>"
      ]
     },
     "metadata": {
      "needs_background": "light"
     },
     "output_type": "display_data"
    }
   ],
   "source": [
    "import seaborn as sns\n",
    "plt.figure(figsize=(5,4)) \n",
    "sns.heatmap(corr_dataset.corr())"
   ]
  },
  {
   "cell_type": "code",
   "execution_count": null,
   "metadata": {},
   "outputs": [],
   "source": []
  }
 ],
 "metadata": {
  "kernelspec": {
   "display_name": "Python 2",
   "language": "python",
   "name": "python2"
  },
  "language_info": {
   "codemirror_mode": {
    "name": "ipython",
    "version": 2
   },
   "file_extension": ".py",
   "mimetype": "text/x-python",
   "name": "python",
   "nbconvert_exporter": "python",
   "pygments_lexer": "ipython2",
   "version": "2.7.15"
  }
 },
 "nbformat": 4,
 "nbformat_minor": 2
}
